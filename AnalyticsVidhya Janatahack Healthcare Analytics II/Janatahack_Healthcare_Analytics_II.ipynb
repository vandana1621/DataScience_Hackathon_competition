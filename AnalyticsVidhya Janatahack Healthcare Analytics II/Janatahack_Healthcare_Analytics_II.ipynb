{
  "nbformat": 4,
  "nbformat_minor": 0,
  "metadata": {
    "colab": {
      "name": "Janatahack: Healthcare Analytics II.ipynb",
      "provenance": [],
      "collapsed_sections": []
    },
    "kernelspec": {
      "name": "python3",
      "display_name": "Python 3"
    }
  },
  "cells": [
    {
      "cell_type": "code",
      "metadata": {
        "id": "lidrmsB8ubmN",
        "colab_type": "code",
        "colab": {
          "base_uri": "https://localhost:8080/",
          "height": 571
        },
        "outputId": "a9ada9ae-4a68-43d2-8889-5abc409353bd"
      },
      "source": [
        "!wget https://datahack-prod.s3.amazonaws.com/test_file/Test_ND2Q3bm.zip\n",
        "!wget https://datahack-prod.s3.amazonaws.com/train_file/Train_hMYJ020.zip\n",
        "!wget https://datahack-prod.s3.amazonaws.com/sample_submission/sample_submission_lfbv3c3.csv"
      ],
      "execution_count": null,
      "outputs": [
        {
          "output_type": "stream",
          "text": [
            "--2020-08-31 18:06:14--  https://datahack-prod.s3.amazonaws.com/test_file/Test_ND2Q3bm.zip\n",
            "Resolving datahack-prod.s3.amazonaws.com (datahack-prod.s3.amazonaws.com)... 52.219.62.68\n",
            "Connecting to datahack-prod.s3.amazonaws.com (datahack-prod.s3.amazonaws.com)|52.219.62.68|:443... connected.\n",
            "HTTP request sent, awaiting response... 200 OK\n",
            "Length: 1804568 (1.7M) [application/zip]\n",
            "Saving to: ‘Test_ND2Q3bm.zip’\n",
            "\n",
            "Test_ND2Q3bm.zip    100%[===================>]   1.72M  2.74MB/s    in 0.6s    \n",
            "\n",
            "2020-08-31 18:06:16 (2.74 MB/s) - ‘Test_ND2Q3bm.zip’ saved [1804568/1804568]\n",
            "\n",
            "--2020-08-31 18:06:16--  https://datahack-prod.s3.amazonaws.com/train_file/Train_hMYJ020.zip\n",
            "Resolving datahack-prod.s3.amazonaws.com (datahack-prod.s3.amazonaws.com)... 52.219.62.124\n",
            "Connecting to datahack-prod.s3.amazonaws.com (datahack-prod.s3.amazonaws.com)|52.219.62.124|:443... connected.\n",
            "HTTP request sent, awaiting response... 200 OK\n",
            "Length: 4466801 (4.3M) [application/zip]\n",
            "Saving to: ‘Train_hMYJ020.zip’\n",
            "\n",
            "Train_hMYJ020.zip   100%[===================>]   4.26M  5.05MB/s    in 0.8s    \n",
            "\n",
            "2020-08-31 18:06:17 (5.05 MB/s) - ‘Train_hMYJ020.zip’ saved [4466801/4466801]\n",
            "\n",
            "--2020-08-31 18:06:17--  https://datahack-prod.s3.amazonaws.com/sample_submission/sample_submission_lfbv3c3.csv\n",
            "Resolving datahack-prod.s3.amazonaws.com (datahack-prod.s3.amazonaws.com)... 52.219.62.104\n",
            "Connecting to datahack-prod.s3.amazonaws.com (datahack-prod.s3.amazonaws.com)|52.219.62.104|:443... connected.\n",
            "HTTP request sent, awaiting response... 200 OK\n",
            "Length: 1644697 (1.6M) [text/csv]\n",
            "Saving to: ‘sample_submission_lfbv3c3.csv’\n",
            "\n",
            "sample_submission_l 100%[===================>]   1.57M  2.46MB/s    in 0.6s    \n",
            "\n",
            "2020-08-31 18:06:18 (2.46 MB/s) - ‘sample_submission_lfbv3c3.csv’ saved [1644697/1644697]\n",
            "\n"
          ],
          "name": "stdout"
        }
      ]
    },
    {
      "cell_type": "code",
      "metadata": {
        "id": "HiBUdEl5upF1",
        "colab_type": "code",
        "colab": {
          "base_uri": "https://localhost:8080/",
          "height": 168
        },
        "outputId": "4e878340-15ea-4bf8-e6aa-9c1145ef017c"
      },
      "source": [
        "!unzip Train_hMYJ020.zip\n",
        "!unzip Test_ND2Q3bm.zip"
      ],
      "execution_count": null,
      "outputs": [
        {
          "output_type": "stream",
          "text": [
            "Archive:  Train_hMYJ020.zip\n",
            "  inflating: train_data_dict.csv     \n",
            "   creating: __MACOSX/\n",
            "  inflating: __MACOSX/._train_data_dict.csv  \n",
            "  inflating: train.csv               \n",
            "  inflating: __MACOSX/._train.csv    \n",
            "Archive:  Test_ND2Q3bm.zip\n",
            "  inflating: test.csv                \n",
            "  inflating: __MACOSX/._test.csv     \n"
          ],
          "name": "stdout"
        }
      ]
    },
    {
      "cell_type": "code",
      "metadata": {
        "id": "rEwsjvwFuy8c",
        "colab_type": "code",
        "colab": {
          "base_uri": "https://localhost:8080/",
          "height": 856
        },
        "outputId": "9797b306-888a-496b-ec32-cb86a45df552"
      },
      "source": [
        "import pandas as pd\n",
        "import numpy as np\n",
        "import matplotlib.pyplot as plt\n",
        "%matplotlib inline\n",
        "import warnings\n",
        "warnings.simplefilter(action='ignore', category=FutureWarning)\n",
        "!pip install rfpimp\n",
        "!pip install catboost\n",
        "from sklearn.metrics import mean_absolute_error,accuracy_score\n",
        "import lightgbm as lgb\n",
        "from sklearn.linear_model import LinearRegression\n",
        "from sklearn.model_selection import StratifiedKFold,KFold,GridSearchCV,GroupKFold,train_test_split,StratifiedShuffleSplit\n",
        "from rfpimp import *\n",
        "from tqdm import tqdm\n",
        "from catboost import *\n",
        "from sklearn.neighbors import KNeighborsClassifier\n",
        "from xgboost import XGBClassifier\n",
        "from sklearn.preprocessing import LabelEncoder"
      ],
      "execution_count": null,
      "outputs": [
        {
          "output_type": "stream",
          "text": [
            "Collecting rfpimp\n",
            "  Downloading https://files.pythonhosted.org/packages/36/05/ce8f1d3a035a4ddda3c888af945908e9f61cbec32f73148fc8e788a8632a/rfpimp-1.3.5.tar.gz\n",
            "Collecting stratx>=0.2\n",
            "\u001b[?25l  Downloading https://files.pythonhosted.org/packages/68/81/4f5964f7cb47c965f943c6e0cbbd78f8b44e9f3d2c8cac27cf83779e22a1/stratx-0.4.1.tar.gz (160kB)\n",
            "\u001b[K     |████████████████████████████████| 163kB 3.7MB/s \n",
            "\u001b[?25hRequirement already satisfied: numpy in /usr/local/lib/python3.6/dist-packages (from rfpimp) (1.18.5)\n",
            "Requirement already satisfied: pandas in /usr/local/lib/python3.6/dist-packages (from rfpimp) (1.0.5)\n",
            "Requirement already satisfied: scikit-learn in /usr/local/lib/python3.6/dist-packages (from rfpimp) (0.22.2.post1)\n",
            "Requirement already satisfied: matplotlib in /usr/local/lib/python3.6/dist-packages (from rfpimp) (3.2.2)\n",
            "Requirement already satisfied: scipy in /usr/local/lib/python3.6/dist-packages (from stratx>=0.2->rfpimp) (1.4.1)\n",
            "Requirement already satisfied: numba in /usr/local/lib/python3.6/dist-packages (from stratx>=0.2->rfpimp) (0.48.0)\n",
            "Collecting colour\n",
            "  Downloading https://files.pythonhosted.org/packages/74/46/e81907704ab203206769dee1385dc77e1407576ff8f50a0681d0a6b541be/colour-0.1.5-py2.py3-none-any.whl\n",
            "Requirement already satisfied: pytz>=2017.2 in /usr/local/lib/python3.6/dist-packages (from pandas->rfpimp) (2018.9)\n",
            "Requirement already satisfied: python-dateutil>=2.6.1 in /usr/local/lib/python3.6/dist-packages (from pandas->rfpimp) (2.8.1)\n",
            "Requirement already satisfied: joblib>=0.11 in /usr/local/lib/python3.6/dist-packages (from scikit-learn->rfpimp) (0.16.0)\n",
            "Requirement already satisfied: cycler>=0.10 in /usr/local/lib/python3.6/dist-packages (from matplotlib->rfpimp) (0.10.0)\n",
            "Requirement already satisfied: pyparsing!=2.0.4,!=2.1.2,!=2.1.6,>=2.0.1 in /usr/local/lib/python3.6/dist-packages (from matplotlib->rfpimp) (2.4.7)\n",
            "Requirement already satisfied: kiwisolver>=1.0.1 in /usr/local/lib/python3.6/dist-packages (from matplotlib->rfpimp) (1.2.0)\n",
            "Requirement already satisfied: setuptools in /usr/local/lib/python3.6/dist-packages (from numba->stratx>=0.2->rfpimp) (49.6.0)\n",
            "Requirement already satisfied: llvmlite<0.32.0,>=0.31.0dev0 in /usr/local/lib/python3.6/dist-packages (from numba->stratx>=0.2->rfpimp) (0.31.0)\n",
            "Requirement already satisfied: six>=1.5 in /usr/local/lib/python3.6/dist-packages (from python-dateutil>=2.6.1->pandas->rfpimp) (1.15.0)\n",
            "Building wheels for collected packages: rfpimp, stratx\n",
            "  Building wheel for rfpimp (setup.py) ... \u001b[?25l\u001b[?25hdone\n",
            "  Created wheel for rfpimp: filename=rfpimp-1.3.5-cp36-none-any.whl size=10261 sha256=7652947a9deaae91d763b7046cf480a866b23f2247026484ab2b53b966a0cb34\n",
            "  Stored in directory: /root/.cache/pip/wheels/2a/c8/bf/80f91224be00870f84a85aa1782cf6cd62c1289a173b66b8e9\n",
            "  Building wheel for stratx (setup.py) ... \u001b[?25l\u001b[?25hdone\n",
            "  Created wheel for stratx: filename=stratx-0.4.1-cp36-none-any.whl size=35078 sha256=197f9144032642f037b9a38732a39662be1273168cfe3ced19b62c51b5fa3d87\n",
            "  Stored in directory: /root/.cache/pip/wheels/ca/c1/e1/3e4c41e3420fe9c706dd4d8ef8d7fb5aba1b6a9547649a2d00\n",
            "Successfully built rfpimp stratx\n",
            "Installing collected packages: colour, stratx, rfpimp\n",
            "Successfully installed colour-0.1.5 rfpimp-1.3.5 stratx-0.4.1\n",
            "Collecting catboost\n",
            "\u001b[?25l  Downloading https://files.pythonhosted.org/packages/90/86/c3dcb600b4f9e7584ed90ea9d30a717fb5c0111574675f442c3e7bc19535/catboost-0.24.1-cp36-none-manylinux1_x86_64.whl (66.1MB)\n",
            "\u001b[K     |████████████████████████████████| 66.1MB 57kB/s \n",
            "\u001b[?25hRequirement already satisfied: plotly in /usr/local/lib/python3.6/dist-packages (from catboost) (4.4.1)\n",
            "Requirement already satisfied: matplotlib in /usr/local/lib/python3.6/dist-packages (from catboost) (3.2.2)\n",
            "Requirement already satisfied: numpy>=1.16.0 in /usr/local/lib/python3.6/dist-packages (from catboost) (1.18.5)\n",
            "Requirement already satisfied: six in /usr/local/lib/python3.6/dist-packages (from catboost) (1.15.0)\n",
            "Requirement already satisfied: pandas>=0.24.0 in /usr/local/lib/python3.6/dist-packages (from catboost) (1.0.5)\n",
            "Requirement already satisfied: scipy in /usr/local/lib/python3.6/dist-packages (from catboost) (1.4.1)\n",
            "Requirement already satisfied: graphviz in /usr/local/lib/python3.6/dist-packages (from catboost) (0.10.1)\n",
            "Requirement already satisfied: retrying>=1.3.3 in /usr/local/lib/python3.6/dist-packages (from plotly->catboost) (1.3.3)\n",
            "Requirement already satisfied: python-dateutil>=2.1 in /usr/local/lib/python3.6/dist-packages (from matplotlib->catboost) (2.8.1)\n",
            "Requirement already satisfied: pyparsing!=2.0.4,!=2.1.2,!=2.1.6,>=2.0.1 in /usr/local/lib/python3.6/dist-packages (from matplotlib->catboost) (2.4.7)\n",
            "Requirement already satisfied: kiwisolver>=1.0.1 in /usr/local/lib/python3.6/dist-packages (from matplotlib->catboost) (1.2.0)\n",
            "Requirement already satisfied: cycler>=0.10 in /usr/local/lib/python3.6/dist-packages (from matplotlib->catboost) (0.10.0)\n",
            "Requirement already satisfied: pytz>=2017.2 in /usr/local/lib/python3.6/dist-packages (from pandas>=0.24.0->catboost) (2018.9)\n",
            "Installing collected packages: catboost\n",
            "Successfully installed catboost-0.24.1\n"
          ],
          "name": "stdout"
        }
      ]
    },
    {
      "cell_type": "code",
      "metadata": {
        "id": "n79PrHkFti56",
        "colab_type": "code",
        "colab": {}
      },
      "source": [
        "train = pd.read_csv('train.csv')\n",
        "test = pd.read_csv('test.csv')\n",
        "sub=pd.read_csv('sample_submission_lfbv3c3.csv')"
      ],
      "execution_count": null,
      "outputs": []
    },
    {
      "cell_type": "code",
      "metadata": {
        "id": "W8kiWT-hN1mD",
        "colab_type": "code",
        "colab": {
          "base_uri": "https://localhost:8080/",
          "height": 291
        },
        "outputId": "ed6074c6-f19a-4b9e-dc8e-4ea33bb9216c"
      },
      "source": [
        "train.head(5)"
      ],
      "execution_count": null,
      "outputs": [
        {
          "output_type": "execute_result",
          "data": {
            "text/html": [
              "<div>\n",
              "<style scoped>\n",
              "    .dataframe tbody tr th:only-of-type {\n",
              "        vertical-align: middle;\n",
              "    }\n",
              "\n",
              "    .dataframe tbody tr th {\n",
              "        vertical-align: top;\n",
              "    }\n",
              "\n",
              "    .dataframe thead th {\n",
              "        text-align: right;\n",
              "    }\n",
              "</style>\n",
              "<table border=\"1\" class=\"dataframe\">\n",
              "  <thead>\n",
              "    <tr style=\"text-align: right;\">\n",
              "      <th></th>\n",
              "      <th>case_id</th>\n",
              "      <th>Hospital_code</th>\n",
              "      <th>Hospital_type_code</th>\n",
              "      <th>City_Code_Hospital</th>\n",
              "      <th>Hospital_region_code</th>\n",
              "      <th>Available Extra Rooms in Hospital</th>\n",
              "      <th>Department</th>\n",
              "      <th>Ward_Type</th>\n",
              "      <th>Ward_Facility_Code</th>\n",
              "      <th>Bed Grade</th>\n",
              "      <th>patientid</th>\n",
              "      <th>City_Code_Patient</th>\n",
              "      <th>Type of Admission</th>\n",
              "      <th>Severity of Illness</th>\n",
              "      <th>Visitors with Patient</th>\n",
              "      <th>Age</th>\n",
              "      <th>Admission_Deposit</th>\n",
              "      <th>Stay</th>\n",
              "    </tr>\n",
              "  </thead>\n",
              "  <tbody>\n",
              "    <tr>\n",
              "      <th>0</th>\n",
              "      <td>1</td>\n",
              "      <td>8</td>\n",
              "      <td>c</td>\n",
              "      <td>3</td>\n",
              "      <td>Z</td>\n",
              "      <td>3</td>\n",
              "      <td>radiotherapy</td>\n",
              "      <td>R</td>\n",
              "      <td>F</td>\n",
              "      <td>2.0</td>\n",
              "      <td>31397</td>\n",
              "      <td>7.0</td>\n",
              "      <td>Emergency</td>\n",
              "      <td>Extreme</td>\n",
              "      <td>2</td>\n",
              "      <td>51-60</td>\n",
              "      <td>4911.0</td>\n",
              "      <td>0-10</td>\n",
              "    </tr>\n",
              "    <tr>\n",
              "      <th>1</th>\n",
              "      <td>2</td>\n",
              "      <td>2</td>\n",
              "      <td>c</td>\n",
              "      <td>5</td>\n",
              "      <td>Z</td>\n",
              "      <td>2</td>\n",
              "      <td>radiotherapy</td>\n",
              "      <td>S</td>\n",
              "      <td>F</td>\n",
              "      <td>2.0</td>\n",
              "      <td>31397</td>\n",
              "      <td>7.0</td>\n",
              "      <td>Trauma</td>\n",
              "      <td>Extreme</td>\n",
              "      <td>2</td>\n",
              "      <td>51-60</td>\n",
              "      <td>5954.0</td>\n",
              "      <td>41-50</td>\n",
              "    </tr>\n",
              "    <tr>\n",
              "      <th>2</th>\n",
              "      <td>3</td>\n",
              "      <td>10</td>\n",
              "      <td>e</td>\n",
              "      <td>1</td>\n",
              "      <td>X</td>\n",
              "      <td>2</td>\n",
              "      <td>anesthesia</td>\n",
              "      <td>S</td>\n",
              "      <td>E</td>\n",
              "      <td>2.0</td>\n",
              "      <td>31397</td>\n",
              "      <td>7.0</td>\n",
              "      <td>Trauma</td>\n",
              "      <td>Extreme</td>\n",
              "      <td>2</td>\n",
              "      <td>51-60</td>\n",
              "      <td>4745.0</td>\n",
              "      <td>31-40</td>\n",
              "    </tr>\n",
              "    <tr>\n",
              "      <th>3</th>\n",
              "      <td>4</td>\n",
              "      <td>26</td>\n",
              "      <td>b</td>\n",
              "      <td>2</td>\n",
              "      <td>Y</td>\n",
              "      <td>2</td>\n",
              "      <td>radiotherapy</td>\n",
              "      <td>R</td>\n",
              "      <td>D</td>\n",
              "      <td>2.0</td>\n",
              "      <td>31397</td>\n",
              "      <td>7.0</td>\n",
              "      <td>Trauma</td>\n",
              "      <td>Extreme</td>\n",
              "      <td>2</td>\n",
              "      <td>51-60</td>\n",
              "      <td>7272.0</td>\n",
              "      <td>41-50</td>\n",
              "    </tr>\n",
              "    <tr>\n",
              "      <th>4</th>\n",
              "      <td>5</td>\n",
              "      <td>26</td>\n",
              "      <td>b</td>\n",
              "      <td>2</td>\n",
              "      <td>Y</td>\n",
              "      <td>2</td>\n",
              "      <td>radiotherapy</td>\n",
              "      <td>S</td>\n",
              "      <td>D</td>\n",
              "      <td>2.0</td>\n",
              "      <td>31397</td>\n",
              "      <td>7.0</td>\n",
              "      <td>Trauma</td>\n",
              "      <td>Extreme</td>\n",
              "      <td>2</td>\n",
              "      <td>51-60</td>\n",
              "      <td>5558.0</td>\n",
              "      <td>41-50</td>\n",
              "    </tr>\n",
              "  </tbody>\n",
              "</table>\n",
              "</div>"
            ],
            "text/plain": [
              "   case_id  Hospital_code Hospital_type_code  ...    Age Admission_Deposit   Stay\n",
              "0        1              8                  c  ...  51-60            4911.0   0-10\n",
              "1        2              2                  c  ...  51-60            5954.0  41-50\n",
              "2        3             10                  e  ...  51-60            4745.0  31-40\n",
              "3        4             26                  b  ...  51-60            7272.0  41-50\n",
              "4        5             26                  b  ...  51-60            5558.0  41-50\n",
              "\n",
              "[5 rows x 18 columns]"
            ]
          },
          "metadata": {
            "tags": []
          },
          "execution_count": 93
        }
      ]
    },
    {
      "cell_type": "code",
      "metadata": {
        "id": "7kirifXnN1lO",
        "colab_type": "code",
        "colab": {
          "base_uri": "https://localhost:8080/",
          "height": 291
        },
        "outputId": "d097753b-9dd8-48e3-b43d-21f2dc070c5c"
      },
      "source": [
        "test.head(5)"
      ],
      "execution_count": null,
      "outputs": [
        {
          "output_type": "execute_result",
          "data": {
            "text/html": [
              "<div>\n",
              "<style scoped>\n",
              "    .dataframe tbody tr th:only-of-type {\n",
              "        vertical-align: middle;\n",
              "    }\n",
              "\n",
              "    .dataframe tbody tr th {\n",
              "        vertical-align: top;\n",
              "    }\n",
              "\n",
              "    .dataframe thead th {\n",
              "        text-align: right;\n",
              "    }\n",
              "</style>\n",
              "<table border=\"1\" class=\"dataframe\">\n",
              "  <thead>\n",
              "    <tr style=\"text-align: right;\">\n",
              "      <th></th>\n",
              "      <th>case_id</th>\n",
              "      <th>Hospital_code</th>\n",
              "      <th>Hospital_type_code</th>\n",
              "      <th>City_Code_Hospital</th>\n",
              "      <th>Hospital_region_code</th>\n",
              "      <th>Available Extra Rooms in Hospital</th>\n",
              "      <th>Department</th>\n",
              "      <th>Ward_Type</th>\n",
              "      <th>Ward_Facility_Code</th>\n",
              "      <th>Bed Grade</th>\n",
              "      <th>patientid</th>\n",
              "      <th>City_Code_Patient</th>\n",
              "      <th>Type of Admission</th>\n",
              "      <th>Severity of Illness</th>\n",
              "      <th>Visitors with Patient</th>\n",
              "      <th>Age</th>\n",
              "      <th>Admission_Deposit</th>\n",
              "    </tr>\n",
              "  </thead>\n",
              "  <tbody>\n",
              "    <tr>\n",
              "      <th>0</th>\n",
              "      <td>318439</td>\n",
              "      <td>21</td>\n",
              "      <td>c</td>\n",
              "      <td>3</td>\n",
              "      <td>Z</td>\n",
              "      <td>3</td>\n",
              "      <td>gynecology</td>\n",
              "      <td>S</td>\n",
              "      <td>A</td>\n",
              "      <td>2.0</td>\n",
              "      <td>17006</td>\n",
              "      <td>2.0</td>\n",
              "      <td>Emergency</td>\n",
              "      <td>Moderate</td>\n",
              "      <td>2</td>\n",
              "      <td>71-80</td>\n",
              "      <td>3095.0</td>\n",
              "    </tr>\n",
              "    <tr>\n",
              "      <th>1</th>\n",
              "      <td>318440</td>\n",
              "      <td>29</td>\n",
              "      <td>a</td>\n",
              "      <td>4</td>\n",
              "      <td>X</td>\n",
              "      <td>2</td>\n",
              "      <td>gynecology</td>\n",
              "      <td>S</td>\n",
              "      <td>F</td>\n",
              "      <td>2.0</td>\n",
              "      <td>17006</td>\n",
              "      <td>2.0</td>\n",
              "      <td>Trauma</td>\n",
              "      <td>Moderate</td>\n",
              "      <td>4</td>\n",
              "      <td>71-80</td>\n",
              "      <td>4018.0</td>\n",
              "    </tr>\n",
              "    <tr>\n",
              "      <th>2</th>\n",
              "      <td>318441</td>\n",
              "      <td>26</td>\n",
              "      <td>b</td>\n",
              "      <td>2</td>\n",
              "      <td>Y</td>\n",
              "      <td>3</td>\n",
              "      <td>gynecology</td>\n",
              "      <td>Q</td>\n",
              "      <td>D</td>\n",
              "      <td>4.0</td>\n",
              "      <td>17006</td>\n",
              "      <td>2.0</td>\n",
              "      <td>Emergency</td>\n",
              "      <td>Moderate</td>\n",
              "      <td>3</td>\n",
              "      <td>71-80</td>\n",
              "      <td>4492.0</td>\n",
              "    </tr>\n",
              "    <tr>\n",
              "      <th>3</th>\n",
              "      <td>318442</td>\n",
              "      <td>6</td>\n",
              "      <td>a</td>\n",
              "      <td>6</td>\n",
              "      <td>X</td>\n",
              "      <td>3</td>\n",
              "      <td>gynecology</td>\n",
              "      <td>Q</td>\n",
              "      <td>F</td>\n",
              "      <td>2.0</td>\n",
              "      <td>17006</td>\n",
              "      <td>2.0</td>\n",
              "      <td>Trauma</td>\n",
              "      <td>Moderate</td>\n",
              "      <td>3</td>\n",
              "      <td>71-80</td>\n",
              "      <td>4173.0</td>\n",
              "    </tr>\n",
              "    <tr>\n",
              "      <th>4</th>\n",
              "      <td>318443</td>\n",
              "      <td>28</td>\n",
              "      <td>b</td>\n",
              "      <td>11</td>\n",
              "      <td>X</td>\n",
              "      <td>2</td>\n",
              "      <td>gynecology</td>\n",
              "      <td>R</td>\n",
              "      <td>F</td>\n",
              "      <td>2.0</td>\n",
              "      <td>17006</td>\n",
              "      <td>2.0</td>\n",
              "      <td>Trauma</td>\n",
              "      <td>Moderate</td>\n",
              "      <td>4</td>\n",
              "      <td>71-80</td>\n",
              "      <td>4161.0</td>\n",
              "    </tr>\n",
              "  </tbody>\n",
              "</table>\n",
              "</div>"
            ],
            "text/plain": [
              "   case_id  Hospital_code  ...    Age  Admission_Deposit\n",
              "0   318439             21  ...  71-80             3095.0\n",
              "1   318440             29  ...  71-80             4018.0\n",
              "2   318441             26  ...  71-80             4492.0\n",
              "3   318442              6  ...  71-80             4173.0\n",
              "4   318443             28  ...  71-80             4161.0\n",
              "\n",
              "[5 rows x 17 columns]"
            ]
          },
          "metadata": {
            "tags": []
          },
          "execution_count": 94
        }
      ]
    },
    {
      "cell_type": "code",
      "metadata": {
        "id": "mPA2igmXdCt5",
        "colab_type": "code",
        "colab": {
          "base_uri": "https://localhost:8080/",
          "height": 51
        },
        "outputId": "83a0fda5-07a9-4807-aca2-6fb2a90d391d"
      },
      "source": [
        "'''\n",
        "x1=train[train.Stay == '21-30'][0:6000:]\n",
        "x2=train[train.Stay == '11-20'][0:6000:]\n",
        "x3=train[train.Stay == '31-40'][0:6000:]\n",
        "x4=train[train.Stay == '51-60'][0:6000:]\n",
        "x5=train[train.Stay == '0-10'][0:6000:]\n",
        "x6=train[train.Stay == '41-50'][0:6000:]\n",
        "x7=train[train.Stay == '71-80'][0:6000:]\n",
        "x8=train[train.Stay == 'More than 100 Days'][0:6000:]\n",
        "x9=train[train.Stay == '81-90']\n",
        "x10=train[train.Stay == '91-100']\n",
        "x11=train[train.Stay == '61-70']\n",
        "train=pd.concat([x1,x2,x3,x4,x5,x6,x7,x8,x9,x10,x11])\n",
        "'''"
      ],
      "execution_count": null,
      "outputs": [
        {
          "output_type": "execute_result",
          "data": {
            "application/vnd.google.colaboratory.intrinsic+json": {
              "type": "string"
            },
            "text/plain": [
              "\"\\nx1=train[train.Stay == '21-30'][0:6000:]\\nx2=train[train.Stay == '11-20'][0:6000:]\\nx3=train[train.Stay == '31-40'][0:6000:]\\nx4=train[train.Stay == '51-60'][0:6000:]\\nx5=train[train.Stay == '0-10'][0:6000:]\\nx6=train[train.Stay == '41-50'][0:6000:]\\nx7=train[train.Stay == '71-80'][0:6000:]\\nx8=train[train.Stay == 'More than 100 Days'][0:6000:]\\nx9=train[train.Stay == '81-90']\\nx10=train[train.Stay == '91-100']\\nx11=train[train.Stay == '61-70']\\ntrain=pd.concat([x1,x2,x3,x4,x5,x6,x7,x8,x9,x10,x11])\\n\""
            ]
          },
          "metadata": {
            "tags": []
          },
          "execution_count": 95
        }
      ]
    },
    {
      "cell_type": "code",
      "metadata": {
        "id": "fxTZJ70wu8iw",
        "colab_type": "code",
        "colab": {}
      },
      "source": [
        "df=pd.concat([train,test])"
      ],
      "execution_count": null,
      "outputs": []
    },
    {
      "cell_type": "code",
      "metadata": {
        "id": "b3eFjBQOu8hT",
        "colab_type": "code",
        "colab": {
          "base_uri": "https://localhost:8080/",
          "height": 638
        },
        "outputId": "983cadd5-9e68-479a-90b7-c1c904b8abe5"
      },
      "source": [
        "df.nunique(),df.shape,df.dtypes"
      ],
      "execution_count": null,
      "outputs": [
        {
          "output_type": "execute_result",
          "data": {
            "text/plain": [
              "(case_id                              455495\n",
              " Hospital_code                            32\n",
              " Hospital_type_code                        7\n",
              " City_Code_Hospital                       11\n",
              " Hospital_region_code                      3\n",
              " Available Extra Rooms in Hospital        18\n",
              " Department                                5\n",
              " Ward_Type                                 6\n",
              " Ward_Facility_Code                        6\n",
              " Bed Grade                                 4\n",
              " patientid                            131624\n",
              " City_Code_Patient                        37\n",
              " Type of Admission                         3\n",
              " Severity of Illness                       3\n",
              " Visitors with Patient                    29\n",
              " Age                                      10\n",
              " Admission_Deposit                      7634\n",
              " Stay                                     11\n",
              " dtype: int64, (455495, 18), case_id                                int64\n",
              " Hospital_code                          int64\n",
              " Hospital_type_code                    object\n",
              " City_Code_Hospital                     int64\n",
              " Hospital_region_code                  object\n",
              " Available Extra Rooms in Hospital      int64\n",
              " Department                            object\n",
              " Ward_Type                             object\n",
              " Ward_Facility_Code                    object\n",
              " Bed Grade                            float64\n",
              " patientid                              int64\n",
              " City_Code_Patient                    float64\n",
              " Type of Admission                     object\n",
              " Severity of Illness                   object\n",
              " Visitors with Patient                  int64\n",
              " Age                                   object\n",
              " Admission_Deposit                    float64\n",
              " Stay                                  object\n",
              " dtype: object)"
            ]
          },
          "metadata": {
            "tags": []
          },
          "execution_count": 102
        }
      ]
    },
    {
      "cell_type": "code",
      "metadata": {
        "id": "S47LgHLGu8dC",
        "colab_type": "code",
        "colab": {}
      },
      "source": [
        "df['Bed Grade']=df['Bed Grade'].fillna(5.0)\n",
        "df['City_Code_Patient']=df['City_Code_Patient'].fillna(39.0)"
      ],
      "execution_count": null,
      "outputs": []
    },
    {
      "cell_type": "code",
      "metadata": {
        "id": "LtfcJ-Y0u8X8",
        "colab_type": "code",
        "colab": {}
      },
      "source": [
        "x=['Hospital_type_code','Hospital_region_code','Department','Ward_Type','Ward_Facility_Code','Type of Admission','Severity of Illness','Age']\n",
        "#df = pd.get_dummies(df, columns=x)\n",
        "from sklearn.preprocessing import LabelEncoder\n",
        "le = LabelEncoder()\n",
        "for i in x:\n",
        "  df[i] = le.fit_transform(df[i])\n",
        "for i in x:\n",
        "  df[i]=df[i]+1"
      ],
      "execution_count": null,
      "outputs": []
    },
    {
      "cell_type": "code",
      "metadata": {
        "id": "Ay5hxjv0mV2O",
        "colab_type": "code",
        "colab": {}
      },
      "source": [
        "df['ward_visit']=df['Ward_Type']+df['Visitors with Patient']\n",
        "df['Hpspital']=df['Hospital_type_code']+df['Hospital_region_code']+df['Hospital_code']+df['City_Code_Hospital']+df['Available Extra Rooms in Hospital']\n",
        "df['Attribute_need']=df['Available Extra Rooms in Hospital']+df['Department']+df['Ward_Type']+df['Ward_Facility_Code']+df['Bed Grade']\n",
        "df['patient']=df['patientid']+df['City_Code_Patient']+df['Type of Admission']+df['Severity of Illness']+df['Admission_Deposit']+df['Age']\n",
        "df['fees']=df['Admission_Deposit']+df['Visitors with Patient']+df['Type of Admission']\n",
        "df['Ag_x']=df['Visitors with Patient']*df['Type of Admission']"
      ],
      "execution_count": null,
      "outputs": []
    },
    {
      "cell_type": "code",
      "metadata": {
        "id": "EAtkSmk8u8TE",
        "colab_type": "code",
        "colab": {}
      },
      "source": [
        "y=['Bed Grade','City_Code_Patient']\n",
        "df = pd.get_dummies(df, columns=y)"
      ],
      "execution_count": null,
      "outputs": []
    },
    {
      "cell_type": "code",
      "metadata": {
        "id": "beMPcH0gpAF-",
        "colab_type": "code",
        "colab": {
          "base_uri": "https://localhost:8080/",
          "height": 34
        },
        "outputId": "bb132f94-1932-4d37-e6aa-2dce1f330352"
      },
      "source": [
        "'''\n",
        "x=['ward_visit','Hpspital','Attribute_need','patient','fees','Ag_x','Stay']\n",
        "for i in df.columns:\n",
        "  if i in x:\n",
        "    pass\n",
        "  else:\n",
        "    del df[i]\n",
        "'''"
      ],
      "execution_count": null,
      "outputs": [
        {
          "output_type": "execute_result",
          "data": {
            "application/vnd.google.colaboratory.intrinsic+json": {
              "type": "string"
            },
            "text/plain": [
              "\"\\nx=['ward_visit','Hpspital','Attribute_need','patient','fees','Ag_x','Stay']\\nfor i in df.columns:\\n  if i in x:\\n    pass\\n  else:\\n    del df[i]\\n\""
            ]
          },
          "metadata": {
            "tags": []
          },
          "execution_count": 107
        }
      ]
    },
    {
      "cell_type": "code",
      "metadata": {
        "id": "jMiDM-sB1JnR",
        "colab_type": "code",
        "colab": {}
      },
      "source": [
        "train = df[df['Stay'].isnull()==False]\n",
        "test = df[df['Stay'].isnull()==True]\n",
        "del test['Stay']\n",
        "#del train['case_id']\n",
        "#del test['case_id']"
      ],
      "execution_count": null,
      "outputs": []
    },
    {
      "cell_type": "code",
      "metadata": {
        "id": "UvFCqvVt1bWy",
        "colab_type": "code",
        "colab": {}
      },
      "source": [
        "train_df=train.copy()\n",
        "test_df=test.copy()"
      ],
      "execution_count": null,
      "outputs": []
    },
    {
      "cell_type": "code",
      "metadata": {
        "id": "PF8YEdc11bVA",
        "colab_type": "code",
        "colab": {
          "base_uri": "https://localhost:8080/",
          "height": 50
        },
        "outputId": "1cadadc3-4a54-47e6-b976-9357444bf6bf"
      },
      "source": [
        "from sklearn.preprocessing import LabelEncoder\n",
        "le = LabelEncoder()\n",
        "train_df['Stay'] = le.fit_transform(train_df['Stay'])\n",
        "le.classes_"
      ],
      "execution_count": null,
      "outputs": [
        {
          "output_type": "execute_result",
          "data": {
            "text/plain": [
              "array(['0-10', '11-20', '21-30', '31-40', '41-50', '51-60', '61-70',\n",
              "       '71-80', '81-90', '91-100', 'More than 100 Days'], dtype=object)"
            ]
          },
          "metadata": {
            "tags": []
          },
          "execution_count": 110
        }
      ]
    },
    {
      "cell_type": "code",
      "metadata": {
        "id": "2VrnqXA32B8T",
        "colab_type": "code",
        "colab": {}
      },
      "source": [
        "\n",
        "from math import sqrt \n",
        "from sklearn.metrics import accuracy_score"
      ],
      "execution_count": null,
      "outputs": []
    },
    {
      "cell_type": "code",
      "metadata": {
        "id": "La_lqJTI2CAH",
        "colab_type": "code",
        "colab": {}
      },
      "source": [
        "X = train_df.drop(labels=['Stay'], axis=1)\n",
        "y = train_df['Stay'].values\n",
        "\n",
        "from sklearn.model_selection import train_test_split\n",
        "X_train, X_cv, y_train, y_cv = train_test_split(X, y, test_size=0.25, random_state=101)"
      ],
      "execution_count": null,
      "outputs": []
    },
    {
      "cell_type": "code",
      "metadata": {
        "id": "qtupj3uN2wKl",
        "colab_type": "code",
        "colab": {
          "base_uri": "https://localhost:8080/",
          "height": 33
        },
        "outputId": "605f1258-5bc3-4f70-aed4-9a0e0fa8d648"
      },
      "source": [
        "X_train.shape, y_train.shape, X_cv.shape, y_cv.shape"
      ],
      "execution_count": null,
      "outputs": [
        {
          "output_type": "execute_result",
          "data": {
            "text/plain": [
              "((238828, 64), (238828,), (79610, 64), (79610,))"
            ]
          },
          "metadata": {
            "tags": []
          },
          "execution_count": 113
        }
      ]
    },
    {
      "cell_type": "code",
      "metadata": {
        "id": "WIcwOjxfeXkv",
        "colab_type": "code",
        "colab": {
          "base_uri": "https://localhost:8080/",
          "height": 33
        },
        "outputId": "ccb63f7e-e94b-4d31-8dc5-45c039305b1b"
      },
      "source": [
        "categorical_features_indices = np.where(X_train.dtypes == 'category')[0]\n",
        "categorical_features_indices"
      ],
      "execution_count": null,
      "outputs": [
        {
          "output_type": "execute_result",
          "data": {
            "text/plain": [
              "array([], dtype=int64)"
            ]
          },
          "metadata": {
            "tags": []
          },
          "execution_count": 114
        }
      ]
    },
    {
      "cell_type": "code",
      "metadata": {
        "id": "AEOxyYfmdoi9",
        "colab_type": "code",
        "colab": {
          "base_uri": "https://localhost:8080/",
          "height": 470
        },
        "outputId": "f5d7a3eb-452f-4506-9673-ac1e399a6b54"
      },
      "source": [
        "from catboost import CatBoostClassifier\n",
        "cat = CatBoostClassifier(loss_function='MultiClass', \n",
        "                         eval_metric='Accuracy', \n",
        "                         depth=2,\n",
        "                         random_seed=42, \n",
        "                         iterations=1000, \n",
        "                         learning_rate=0.1,\n",
        "                         leaf_estimation_iterations=1,\n",
        "                         l2_leaf_reg=1,\n",
        "                         bootstrap_type='Bayesian', \n",
        "                         bagging_temperature=1, \n",
        "                         random_strength=1,\n",
        "                         od_type='Iter', \n",
        "                         od_wait=200)\n",
        "cat.fit(X_train, y_train, verbose=50,\n",
        "        use_best_model=True,\n",
        "        cat_features=categorical_features_indices,\n",
        "        eval_set=[(X_train, y_train),(X_cv, y_cv)],\n",
        "        plot=False)"
      ],
      "execution_count": null,
      "outputs": [
        {
          "output_type": "stream",
          "text": [
            "0:\tlearn: 0.3619174\ttest: 0.3619174\ttest1: 0.3626554\tbest: 0.3626554 (0)\ttotal: 446ms\tremaining: 7m 25s\n",
            "50:\tlearn: 0.3867051\ttest: 0.3867051\ttest1: 0.3865092\tbest: 0.3865092 (50)\ttotal: 19s\tremaining: 5m 53s\n",
            "100:\tlearn: 0.4017578\ttest: 0.4017578\ttest1: 0.4002512\tbest: 0.4002512 (100)\ttotal: 37.6s\tremaining: 5m 34s\n",
            "150:\tlearn: 0.4065939\ttest: 0.4065939\ttest1: 0.4033664\tbest: 0.4033664 (150)\ttotal: 56.1s\tremaining: 5m 15s\n",
            "200:\tlearn: 0.4094202\ttest: 0.4094202\ttest1: 0.4069212\tbest: 0.4069212 (200)\ttotal: 1m 14s\tremaining: 4m 55s\n",
            "250:\tlearn: 0.4121460\ttest: 0.4121460\ttest1: 0.4083281\tbest: 0.4087301 (235)\ttotal: 1m 32s\tremaining: 4m 36s\n",
            "300:\tlearn: 0.4135445\ttest: 0.4135445\ttest1: 0.4100113\tbest: 0.4100113 (299)\ttotal: 1m 50s\tremaining: 4m 17s\n",
            "350:\tlearn: 0.4152570\ttest: 0.4152570\ttest1: 0.4119709\tbest: 0.4121467 (345)\ttotal: 2m 9s\tremaining: 3m 58s\n",
            "400:\tlearn: 0.4161489\ttest: 0.4161489\ttest1: 0.4125738\tbest: 0.4129758 (385)\ttotal: 2m 27s\tremaining: 3m 39s\n",
            "450:\tlearn: 0.4172543\ttest: 0.4172543\ttest1: 0.4135787\tbest: 0.4137169 (444)\ttotal: 2m 45s\tremaining: 3m 21s\n",
            "500:\tlearn: 0.4178781\ttest: 0.4178781\ttest1: 0.4142319\tbest: 0.4142696 (496)\ttotal: 3m 3s\tremaining: 3m 2s\n",
            "550:\tlearn: 0.4186486\ttest: 0.4186486\ttest1: 0.4149604\tbest: 0.4149604 (550)\ttotal: 3m 21s\tremaining: 2m 44s\n",
            "600:\tlearn: 0.4194441\ttest: 0.4194441\ttest1: 0.4156764\tbest: 0.4156764 (600)\ttotal: 3m 39s\tremaining: 2m 25s\n",
            "650:\tlearn: 0.4198251\ttest: 0.4198251\ttest1: 0.4164929\tbest: 0.4165180 (649)\ttotal: 3m 57s\tremaining: 2m 7s\n",
            "700:\tlearn: 0.4201643\ttest: 0.4201643\ttest1: 0.4169702\tbest: 0.4169702 (700)\ttotal: 4m 15s\tremaining: 1m 49s\n",
            "750:\tlearn: 0.4206626\ttest: 0.4206626\ttest1: 0.4172466\tbest: 0.4173722 (746)\ttotal: 4m 33s\tremaining: 1m 30s\n",
            "800:\tlearn: 0.4210520\ttest: 0.4210520\ttest1: 0.4178244\tbest: 0.4178244 (800)\ttotal: 4m 52s\tremaining: 1m 12s\n",
            "850:\tlearn: 0.4211985\ttest: 0.4211985\ttest1: 0.4179123\tbest: 0.4181384 (818)\ttotal: 5m 10s\tremaining: 54.3s\n",
            "900:\tlearn: 0.4217261\ttest: 0.4217261\ttest1: 0.4175857\tbest: 0.4181384 (818)\ttotal: 5m 28s\tremaining: 36s\n",
            "950:\tlearn: 0.4220736\ttest: 0.4220736\ttest1: 0.4177741\tbest: 0.4181384 (818)\ttotal: 5m 45s\tremaining: 17.8s\n",
            "999:\tlearn: 0.4224463\ttest: 0.4224463\ttest1: 0.4181887\tbest: 0.4184525 (985)\ttotal: 6m 3s\tremaining: 0us\n",
            "\n",
            "bestTest = 0.4184524557\n",
            "bestIteration = 985\n",
            "\n",
            "Shrink model to first 986 iterations.\n"
          ],
          "name": "stdout"
        },
        {
          "output_type": "execute_result",
          "data": {
            "text/plain": [
              "<catboost.core.CatBoostClassifier at 0x7fa7338082e8>"
            ]
          },
          "metadata": {
            "tags": []
          },
          "execution_count": 116
        }
      ]
    },
    {
      "cell_type": "code",
      "metadata": {
        "id": "2F8XXXNCojYR",
        "colab_type": "code",
        "colab": {
          "base_uri": "https://localhost:8080/",
          "height": 33
        },
        "outputId": "b278bb5d-6db9-47de-bc72-d6d502da6e1d"
      },
      "source": [
        "predictions = cat.predict(X_cv)\n",
        "print('accuracy:', accuracy_score(y_cv, predictions))"
      ],
      "execution_count": null,
      "outputs": [
        {
          "output_type": "stream",
          "text": [
            "accuracy: 0.418452455721643\n"
          ],
          "name": "stdout"
        }
      ]
    },
    {
      "cell_type": "code",
      "metadata": {
        "id": "ITboIZaSe8o9",
        "colab_type": "code",
        "colab": {
          "base_uri": "https://localhost:8080/",
          "height": 1000
        },
        "outputId": "f89224f8-5ead-4d98-98a5-f7b67e56caf6"
      },
      "source": [
        "import seaborn as sns\n",
        "feature_imp = pd.DataFrame(sorted(zip(cat.feature_importances_, X.columns), reverse=True)[:50], \n",
        "                           columns=['Value','Feature'])\n",
        "plt.figure(figsize=(15,15))\n",
        "sns.barplot(x=\"Value\", y=\"Feature\", data=feature_imp.sort_values(by=\"Value\", ascending=False))\n",
        "plt.title('Catboost Features')\n",
        "plt.tight_layout()\n",
        "plt.show()"
      ],
      "execution_count": null,
      "outputs": [
        {
          "output_type": "display_data",
          "data": {
            "image/png": "[encoded data removed]",
            "text/plain": [
              "<Figure size 1080x1080 with 1 Axes>"
            ]
          },
          "metadata": {
            "tags": [],
            "needs_background": "light"
          }
        }
      ]
    },
    {
      "cell_type": "code",
      "metadata": {
        "id": "V58lkKfzkfM1",
        "colab_type": "code",
        "colab": {}
      },
      "source": [
        "Xtest = test_df"
      ],
      "execution_count": null,
      "outputs": []
    },
    {
      "cell_type": "code",
      "metadata": {
        "id": "xsvafoAOIDe7",
        "colab_type": "code",
        "colab": {}
      },
      "source": [
        "from sklearn.model_selection import KFold\n",
        "\n",
        "errcat = []\n",
        "y_pred_totcat = []\n",
        "\n",
        "fold = KFold(n_splits=4, shuffle=True, random_state=42)\n",
        "\n",
        "for train_index, test_index in fold.split(X):\n",
        "    X_train, X_test = X.loc[train_index], X.loc[test_index]\n",
        "    y_train, y_test = y[train_index], y[test_index]\n",
        "    \n",
        "    cat = CatBoostClassifier(loss_function='MultiClass', \n",
        "                         eval_metric='Accuracy', \n",
        "                         depth=6,\n",
        "                         random_seed=42, \n",
        "                         iterations=1000, \n",
        "                         learning_rate=0.1,\n",
        "                         leaf_estimation_iterations=1,\n",
        "                         l2_leaf_reg=1, \n",
        "                         bootstrap_type='Bayesian', \n",
        "                         bagging_temperature=1, \n",
        "                         random_strength=1,\n",
        "                         od_type='Iter', \n",
        "                         od_wait=200)\n",
        "    cat.fit(X_train, y_train, eval_set=[(X_test, y_test)], verbose=0, early_stopping_rounds=200, cat_features=categorical_features_indices)\n",
        "\n",
        "    y_pred_cat = cat.predict(X_test)\n",
        "    print(\"Accuracy: \", accuracy_score(y_test,y_pred_cat))\n",
        "\n",
        "    errcat.append(accuracy_score(y_test,y_pred_cat))\n",
        "    p = cat.predict(Xtest)\n",
        "    y_pred_totcat.append(p)"
      ],
      "execution_count": null,
      "outputs": []
    },
    {
      "cell_type": "code",
      "metadata": {
        "id": "3Kr8ODymmR5v",
        "colab_type": "code",
        "colab": {
          "base_uri": "https://localhost:8080/",
          "height": 33
        },
        "outputId": "2f990673-d2f0-474e-ceeb-4f317f3f72af"
      },
      "source": [
        "np.mean(errcat,0)"
      ],
      "execution_count": null,
      "outputs": [
        {
          "output_type": "execute_result",
          "data": {
            "text/plain": [
              "0.4288908428589373"
            ]
          },
          "metadata": {
            "tags": []
          },
          "execution_count": 136
        }
      ]
    },
    {
      "cell_type": "code",
      "metadata": {
        "id": "HH5OitMSmUrB",
        "colab_type": "code",
        "colab": {
          "base_uri": "https://localhost:8080/",
          "height": 50
        },
        "outputId": "209cb57f-c797-4aea-c2b8-0ef36633a7da"
      },
      "source": [
        "cat_final = np.mean(y_pred_totcat,0).round().astype(int)\n",
        "y_pred_class = le.inverse_transform(cat_final)"
      ],
      "execution_count": null,
      "outputs": [
        {
          "output_type": "stream",
          "text": [
            "/usr/local/lib/python3.6/dist-packages/sklearn/preprocessing/_label.py:289: DataConversionWarning: A column-vector y was passed when a 1d array was expected. Please change the shape of y to (n_samples, ), for example using ravel().\n",
            "  y = column_or_1d(y, warn=True)\n"
          ],
          "name": "stderr"
        }
      ]
    },
    {
      "cell_type": "code",
      "metadata": {
        "id": "dsYyJ9e0mWxW",
        "colab_type": "code",
        "colab": {}
      },
      "source": [
        "yyy = pd.DataFrame(data=y_pred_class, columns=['Stay'])"
      ],
      "execution_count": null,
      "outputs": []
    },
    {
      "cell_type": "code",
      "metadata": {
        "id": "N9Vcj0ICmgGF",
        "colab_type": "code",
        "colab": {
          "base_uri": "https://localhost:8080/",
          "height": 190
        },
        "outputId": "5ef98e50-2abf-4ae5-9da7-2c9bec1a72e0"
      },
      "source": [
        "sub['Stay']=yyy['Stay']\n",
        "sub.head(5)"
      ],
      "execution_count": null,
      "outputs": [
        {
          "output_type": "execute_result",
          "data": {
            "text/html": [
              "<div>\n",
              "<style scoped>\n",
              "    .dataframe tbody tr th:only-of-type {\n",
              "        vertical-align: middle;\n",
              "    }\n",
              "\n",
              "    .dataframe tbody tr th {\n",
              "        vertical-align: top;\n",
              "    }\n",
              "\n",
              "    .dataframe thead th {\n",
              "        text-align: right;\n",
              "    }\n",
              "</style>\n",
              "<table border=\"1\" class=\"dataframe\">\n",
              "  <thead>\n",
              "    <tr style=\"text-align: right;\">\n",
              "      <th></th>\n",
              "      <th>case_id</th>\n",
              "      <th>Stay</th>\n",
              "    </tr>\n",
              "  </thead>\n",
              "  <tbody>\n",
              "    <tr>\n",
              "      <th>0</th>\n",
              "      <td>318439</td>\n",
              "      <td>0-10</td>\n",
              "    </tr>\n",
              "    <tr>\n",
              "      <th>1</th>\n",
              "      <td>318440</td>\n",
              "      <td>51-60</td>\n",
              "    </tr>\n",
              "    <tr>\n",
              "      <th>2</th>\n",
              "      <td>318441</td>\n",
              "      <td>21-30</td>\n",
              "    </tr>\n",
              "    <tr>\n",
              "      <th>3</th>\n",
              "      <td>318442</td>\n",
              "      <td>21-30</td>\n",
              "    </tr>\n",
              "    <tr>\n",
              "      <th>4</th>\n",
              "      <td>318443</td>\n",
              "      <td>51-60</td>\n",
              "    </tr>\n",
              "  </tbody>\n",
              "</table>\n",
              "</div>"
            ],
            "text/plain": [
              "   case_id   Stay\n",
              "0   318439   0-10\n",
              "1   318440  51-60\n",
              "2   318441  21-30\n",
              "3   318442  21-30\n",
              "4   318443  51-60"
            ]
          },
          "metadata": {
            "tags": []
          },
          "execution_count": 144
        }
      ]
    },
    {
      "cell_type": "code",
      "metadata": {
        "id": "MJ1tXB6m4dtL",
        "colab_type": "code",
        "colab": {}
      },
      "source": [
        "sub.to_csv('xcd.csv',index=False)"
      ],
      "execution_count": null,
      "outputs": []
    },
    {
      "cell_type": "code",
      "metadata": {
        "id": "jL9nSWZ7mobF",
        "colab_type": "code",
        "colab": {
          "base_uri": "https://localhost:8080/",
          "height": 16
        },
        "outputId": "f36494a2-6e6a-4517-e559-bbb3f73327c0"
      },
      "source": [
        "from google.colab import files\n",
        "files.download('xcd.csv')"
      ],
      "execution_count": null,
      "outputs": [
        {
          "output_type": "display_data",
          "data": {
            "application/javascript": [
              "\n",
              "    async function download(id, filename, size) {\n",
              "      if (!google.colab.kernel.accessAllowed) {\n",
              "        return;\n",
              "      }\n",
              "      const div = document.createElement('div');\n",
              "      const label = document.createElement('label');\n",
              "      label.textContent = `Downloading \"${filename}\": `;\n",
              "      div.appendChild(label);\n",
              "      const progress = document.createElement('progress');\n",
              "      progress.max = size;\n",
              "      div.appendChild(progress);\n",
              "      document.body.appendChild(div);\n",
              "\n",
              "      const buffers = [];\n",
              "      let downloaded = 0;\n",
              "\n",
              "      const channel = await google.colab.kernel.comms.open(id);\n",
              "      // Send a message to notify the kernel that we're ready.\n",
              "      channel.send({})\n",
              "\n",
              "      for await (const message of channel.messages) {\n",
              "        // Send a message to notify the kernel that we're ready.\n",
              "        channel.send({})\n",
              "        if (message.buffers) {\n",
              "          for (const buffer of message.buffers) {\n",
              "            buffers.push(buffer);\n",
              "            downloaded += buffer.byteLength;\n",
              "            progress.value = downloaded;\n",
              "          }\n",
              "        }\n",
              "      }\n",
              "      const blob = new Blob(buffers, {type: 'application/binary'});\n",
              "      const a = document.createElement('a');\n",
              "      a.href = window.URL.createObjectURL(blob);\n",
              "      a.download = filename;\n",
              "      div.appendChild(a);\n",
              "      a.click();\n",
              "      div.remove();\n",
              "    }\n",
              "  "
            ],
            "text/plain": [
              "<IPython.core.display.Javascript object>"
            ]
          },
          "metadata": {
            "tags": []
          }
        },
        {
          "output_type": "display_data",
          "data": {
            "application/javascript": [
              "download(\"download_abe21706-45f0-4607-b5ef-361522274c8f\", \"xcd.csv\", 1803028)"
            ],
            "text/plain": [
              "<IPython.core.display.Javascript object>"
            ]
          },
          "metadata": {
            "tags": []
          }
        }
      ]
    },
    {
      "cell_type": "code",
      "metadata": {
        "id": "taC4kyMw4kTj",
        "colab_type": "code",
        "colab": {}
      },
      "source": [
        ""
      ],
      "execution_count": null,
      "outputs": []
    },
    {
      "cell_type": "code",
      "metadata": {
        "id": "uYeTbXy-mqzi",
        "colab_type": "code",
        "colab": {}
      },
      "source": [
        "train_df=train.copy()\n",
        "test_df=test.copy()"
      ],
      "execution_count": null,
      "outputs": []
    },
    {
      "cell_type": "code",
      "metadata": {
        "id": "Hs2iCSN0_zbt",
        "colab_type": "code",
        "colab": {}
      },
      "source": [
        "df_train = train_df\n",
        "df_test = test_df"
      ],
      "execution_count": null,
      "outputs": []
    },
    {
      "cell_type": "code",
      "metadata": {
        "id": "kP1EprRx-cYM",
        "colab_type": "code",
        "colab": {}
      },
      "source": [
        "X_train = train_df.drop(['Stay'],axis=1)\n",
        "y_train = train_df['Stay']"
      ],
      "execution_count": null,
      "outputs": []
    },
    {
      "cell_type": "code",
      "metadata": {
        "id": "gS_o62s_AN4i",
        "colab_type": "code",
        "colab": {
          "base_uri": "https://localhost:8080/",
          "height": 470
        },
        "outputId": "faf0aba4-a082-4228-c6af-e60d1f8e8e1c"
      },
      "source": [
        "x=[]\n",
        "for i in test_df.columns:\n",
        "  x.append(i)\n",
        "x=np.array(x)\n",
        "x"
      ],
      "execution_count": null,
      "outputs": [
        {
          "output_type": "execute_result",
          "data": {
            "text/plain": [
              "array(['case_id', 'Hospital_code', 'Hospital_type_code',\n",
              "       'City_Code_Hospital', 'Hospital_region_code',\n",
              "       'Available Extra Rooms in Hospital', 'Department', 'Ward_Type',\n",
              "       'Ward_Facility_Code', 'patientid', 'Type of Admission',\n",
              "       'Severity of Illness', 'Visitors with Patient', 'Age',\n",
              "       'Admission_Deposit', 'ward_visit', 'Hpspital', 'Attribute_need',\n",
              "       'patient', 'fees', 'Ag_x', 'Bed Grade_1.0', 'Bed Grade_2.0',\n",
              "       'Bed Grade_3.0', 'Bed Grade_4.0', 'Bed Grade_5.0',\n",
              "       'City_Code_Patient_1.0', 'City_Code_Patient_2.0',\n",
              "       'City_Code_Patient_3.0', 'City_Code_Patient_4.0',\n",
              "       'City_Code_Patient_5.0', 'City_Code_Patient_6.0',\n",
              "       'City_Code_Patient_7.0', 'City_Code_Patient_8.0',\n",
              "       'City_Code_Patient_9.0', 'City_Code_Patient_10.0',\n",
              "       'City_Code_Patient_11.0', 'City_Code_Patient_12.0',\n",
              "       'City_Code_Patient_13.0', 'City_Code_Patient_14.0',\n",
              "       'City_Code_Patient_15.0', 'City_Code_Patient_16.0',\n",
              "       'City_Code_Patient_18.0', 'City_Code_Patient_19.0',\n",
              "       'City_Code_Patient_20.0', 'City_Code_Patient_21.0',\n",
              "       'City_Code_Patient_22.0', 'City_Code_Patient_23.0',\n",
              "       'City_Code_Patient_24.0', 'City_Code_Patient_25.0',\n",
              "       'City_Code_Patient_26.0', 'City_Code_Patient_27.0',\n",
              "       'City_Code_Patient_28.0', 'City_Code_Patient_29.0',\n",
              "       'City_Code_Patient_30.0', 'City_Code_Patient_31.0',\n",
              "       'City_Code_Patient_32.0', 'City_Code_Patient_33.0',\n",
              "       'City_Code_Patient_34.0', 'City_Code_Patient_35.0',\n",
              "       'City_Code_Patient_36.0', 'City_Code_Patient_37.0',\n",
              "       'City_Code_Patient_38.0', 'City_Code_Patient_39.0'], dtype='<U33')"
            ]
          },
          "metadata": {
            "tags": []
          },
          "execution_count": 23
        }
      ]
    },
    {
      "cell_type": "code",
      "metadata": {
        "id": "7LHwYp6mnSd8",
        "colab_type": "code",
        "colab": {}
      },
      "source": [
        "feats=x"
      ],
      "execution_count": null,
      "outputs": []
    },
    {
      "cell_type": "code",
      "metadata": {
        "id": "iT5_DWv_nkHT",
        "colab_type": "code",
        "colab": {
          "base_uri": "https://localhost:8080/",
          "height": 67
        },
        "outputId": "2125715d-1c27-49b5-af63-fbd4c9df9d75"
      },
      "source": [
        "splits = 2\n",
        "folds =StratifiedKFold(n_splits=splits, random_state=42,shuffle=True)\n",
        "oof_preds = np.zeros((len(df_test), 11))\n",
        "feature_importance_df = pd.DataFrame()\n",
        "feature_importance_df['Feature'] = X_train.columns\n",
        "final_preds = []\n",
        "random_state = [22,44,66,77,88,99,101]\n",
        "counter = 0\n",
        "\n",
        "for fold_, (trn_idx, val_idx) in enumerate(folds.split(X_train.values,y_train)):\n",
        "        print(\"iter_ {}\".format(fold_))\n",
        "        X_trn,y_trn = X_train[feats].iloc[trn_idx],y_train.iloc[trn_idx]\n",
        "        X_val,y_val = X_train[feats].iloc[val_idx],y_train.iloc[val_idx]\n",
        "        clf = lgb.LGBMClassifier(boosting='gbdt',learning_rate=0.1, n_estimators=1000, random_state=101, subsample=0.9,max_depth=-1,num_leaves=31)#\n",
        "         #,\n",
        "         #min_data_in_leaf=11,\n",
        "         #bagging_fraction=0.90,\n",
        "         #bagging_freq=2,\n",
        "         #bagging_seed=3,\n",
        "         #feature_fraction=0.90,\n",
        "         #feature_fraction_seed=2,\n",
        "         #early_stopping_round=200,\n",
        "         #max_bin=1000)#(n_estimators=1000,max_depth=4,random_state=42)#dart\n",
        "        clf.fit(X_trn, y_trn,eval_set=[(X_trn, y_trn), (X_val, y_val)],verbose=0,\n",
        "                eval_metric='multi_error',early_stopping_rounds=100)\n",
        "        \n",
        "        imp = importances(clf,X_val,y_val)\n",
        "        imp.rename(columns={'Importance':f'Importance_{fold_}'},inplace=True)\n",
        "        feature_importance_df = pd.merge(feature_importance_df,imp,on='Feature')\n",
        "        final_preds.append(accuracy_score(y_pred=clf.predict(X_val),y_true=y_val))\n",
        "        \n",
        "        oof_preds += clf.predict_proba(df_test[feats])\n",
        "oof_preds = oof_preds/splits\n",
        "print(sum(final_preds)/splits)"
      ],
      "execution_count": null,
      "outputs": [
        {
          "output_type": "stream",
          "text": [
            "iter_ 0\n",
            "iter_ 1\n",
            "0.42508117749766045\n"
          ],
          "name": "stdout"
        }
      ]
    },
    {
      "cell_type": "code",
      "metadata": {
        "id": "LFrQSOXSnmYY",
        "colab_type": "code",
        "colab": {}
      },
      "source": [
        "preds_x = [np.argmax(x) for x in oof_preds]"
      ],
      "execution_count": null,
      "outputs": []
    },
    {
      "cell_type": "code",
      "metadata": {
        "id": "7lxHsMcL_t-y",
        "colab_type": "code",
        "colab": {}
      },
      "source": [
        "y_pred_class = le.inverse_transform(preds_x)"
      ],
      "execution_count": null,
      "outputs": []
    },
    {
      "cell_type": "code",
      "metadata": {
        "colab_type": "code",
        "id": "p4MQTqLB_miA",
        "colab": {
          "base_uri": "https://localhost:8080/",
          "height": 190
        },
        "outputId": "7bebf17f-2a27-42a4-acba-007f6ef4f08e"
      },
      "source": [
        "sub['Stay']=y_pred_class\n",
        "sub.head(5)"
      ],
      "execution_count": null,
      "outputs": [
        {
          "output_type": "execute_result",
          "data": {
            "text/html": [
              "<div>\n",
              "<style scoped>\n",
              "    .dataframe tbody tr th:only-of-type {\n",
              "        vertical-align: middle;\n",
              "    }\n",
              "\n",
              "    .dataframe tbody tr th {\n",
              "        vertical-align: top;\n",
              "    }\n",
              "\n",
              "    .dataframe thead th {\n",
              "        text-align: right;\n",
              "    }\n",
              "</style>\n",
              "<table border=\"1\" class=\"dataframe\">\n",
              "  <thead>\n",
              "    <tr style=\"text-align: right;\">\n",
              "      <th></th>\n",
              "      <th>case_id</th>\n",
              "      <th>Stay</th>\n",
              "    </tr>\n",
              "  </thead>\n",
              "  <tbody>\n",
              "    <tr>\n",
              "      <th>0</th>\n",
              "      <td>318439</td>\n",
              "      <td>0-10</td>\n",
              "    </tr>\n",
              "    <tr>\n",
              "      <th>1</th>\n",
              "      <td>318440</td>\n",
              "      <td>51-60</td>\n",
              "    </tr>\n",
              "    <tr>\n",
              "      <th>2</th>\n",
              "      <td>318441</td>\n",
              "      <td>21-30</td>\n",
              "    </tr>\n",
              "    <tr>\n",
              "      <th>3</th>\n",
              "      <td>318442</td>\n",
              "      <td>21-30</td>\n",
              "    </tr>\n",
              "    <tr>\n",
              "      <th>4</th>\n",
              "      <td>318443</td>\n",
              "      <td>51-60</td>\n",
              "    </tr>\n",
              "  </tbody>\n",
              "</table>\n",
              "</div>"
            ],
            "text/plain": [
              "   case_id   Stay\n",
              "0   318439   0-10\n",
              "1   318440  51-60\n",
              "2   318441  21-30\n",
              "3   318442  21-30\n",
              "4   318443  51-60"
            ]
          },
          "metadata": {
            "tags": []
          },
          "execution_count": 28
        }
      ]
    },
    {
      "cell_type": "code",
      "metadata": {
        "colab_type": "code",
        "id": "uu2D6Xe1_mia",
        "colab": {}
      },
      "source": [
        "sub.to_csv('tino.csv',index=False)"
      ],
      "execution_count": null,
      "outputs": []
    },
    {
      "cell_type": "code",
      "metadata": {
        "colab_type": "code",
        "id": "k_reEGW7_mir",
        "colab": {
          "base_uri": "https://localhost:8080/",
          "height": 16
        },
        "outputId": "5707088c-f779-4f00-85a6-3d773ca80d53"
      },
      "source": [
        "from google.colab import files\n",
        "files.download('tino.csv')"
      ],
      "execution_count": null,
      "outputs": [
        {
          "output_type": "display_data",
          "data": {
            "application/javascript": [
              "\n",
              "    async function download(id, filename, size) {\n",
              "      if (!google.colab.kernel.accessAllowed) {\n",
              "        return;\n",
              "      }\n",
              "      const div = document.createElement('div');\n",
              "      const label = document.createElement('label');\n",
              "      label.textContent = `Downloading \"${filename}\": `;\n",
              "      div.appendChild(label);\n",
              "      const progress = document.createElement('progress');\n",
              "      progress.max = size;\n",
              "      div.appendChild(progress);\n",
              "      document.body.appendChild(div);\n",
              "\n",
              "      const buffers = [];\n",
              "      let downloaded = 0;\n",
              "\n",
              "      const channel = await google.colab.kernel.comms.open(id);\n",
              "      // Send a message to notify the kernel that we're ready.\n",
              "      channel.send({})\n",
              "\n",
              "      for await (const message of channel.messages) {\n",
              "        // Send a message to notify the kernel that we're ready.\n",
              "        channel.send({})\n",
              "        if (message.buffers) {\n",
              "          for (const buffer of message.buffers) {\n",
              "            buffers.push(buffer);\n",
              "            downloaded += buffer.byteLength;\n",
              "            progress.value = downloaded;\n",
              "          }\n",
              "        }\n",
              "      }\n",
              "      const blob = new Blob(buffers, {type: 'application/binary'});\n",
              "      const a = document.createElement('a');\n",
              "      a.href = window.URL.createObjectURL(blob);\n",
              "      a.download = filename;\n",
              "      div.appendChild(a);\n",
              "      a.click();\n",
              "      div.remove();\n",
              "    }\n",
              "  "
            ],
            "text/plain": [
              "<IPython.core.display.Javascript object>"
            ]
          },
          "metadata": {
            "tags": []
          }
        },
        {
          "output_type": "display_data",
          "data": {
            "application/javascript": [
              "download(\"download_51c9dc53-0451-439d-a590-0d0e70ee3f8f\", \"tino.csv\", 1800608)"
            ],
            "text/plain": [
              "<IPython.core.display.Javascript object>"
            ]
          },
          "metadata": {
            "tags": []
          }
        }
      ]
    },
    {
      "cell_type": "code",
      "metadata": {
        "id": "VNMg8z9WbySq",
        "colab_type": "code",
        "colab": {}
      },
      "source": [
        ""
      ],
      "execution_count": null,
      "outputs": []
    },
    {
      "cell_type": "code",
      "metadata": {
        "id": "wR9jEaKqbyRF",
        "colab_type": "code",
        "colab": {}
      },
      "source": [
        ""
      ],
      "execution_count": null,
      "outputs": []
    },
    {
      "cell_type": "markdown",
      "metadata": {
        "id": "bpLsjb-6Gdof",
        "colab_type": "text"
      },
      "source": [
        "# F2"
      ]
    },
    {
      "cell_type": "code",
      "metadata": {
        "colab_type": "code",
        "id": "ZkIJPvZRxks_",
        "colab": {}
      },
      "source": [
        "X = train_df.drop(labels=['Stay'], axis=1)\n",
        "y = train_df['Stay'].values\n",
        "\n",
        "from sklearn.model_selection import train_test_split\n",
        "X_train, X_cv, y_train, y_cv = train_test_split(X, y, test_size=0.30, random_state=101)"
      ],
      "execution_count": null,
      "outputs": []
    },
    {
      "cell_type": "code",
      "metadata": {
        "colab_type": "code",
        "id": "CeYxvDAexktO",
        "colab": {
          "base_uri": "https://localhost:8080/",
          "height": 33
        },
        "outputId": "30a953d7-ab5f-4763-f242-bee035517b60"
      },
      "source": [
        "X_train.shape, y_train.shape, X_cv.shape, y_cv.shape"
      ],
      "execution_count": null,
      "outputs": [
        {
          "output_type": "execute_result",
          "data": {
            "text/plain": [
              "((222906, 64), (222906,), (95532, 64), (95532,))"
            ]
          },
          "metadata": {
            "tags": []
          },
          "execution_count": 22
        }
      ]
    },
    {
      "cell_type": "code",
      "metadata": {
        "id": "XlZd_RoNxcUP",
        "colab_type": "code",
        "colab": {
          "base_uri": "https://localhost:8080/",
          "height": 369
        },
        "outputId": "3bf3ac71-fac7-471c-fecb-041597f7ced4"
      },
      "source": [
        "from sklearn.ensemble import GradientBoostingRegressor\n",
        "gb = GradientBoostingRegressor(verbose=1, learning_rate=0.1, n_estimators=100, random_state=42, subsample=0.8, max_features=10)\n",
        "gb.fit(X_train, y_train)\n",
        "y_pred = gb.predict(X_cv)\n",
        "y_pred=y_pred.round()\n",
        "print('roc_auc_score', accuracy_score(y_cv, y_pred))"
      ],
      "execution_count": null,
      "outputs": [
        {
          "output_type": "stream",
          "text": [
            "      Iter       Train Loss      OOB Improve   Remaining Time \n",
            "         1           4.4904           0.1157           19.85s\n",
            "         2           4.3984           0.1038           17.85s\n",
            "         3           4.1225           0.2784           17.65s\n",
            "         4           3.9451           0.1788           18.20s\n",
            "         5           3.8501           0.0994           17.71s\n",
            "         6           3.7785           0.0682           17.52s\n",
            "         7           3.7534           0.0410           16.52s\n",
            "         8           3.7026           0.0388           16.31s\n",
            "         9           3.6170           0.0788           16.11s\n",
            "        10           3.5639           0.0526           15.50s\n",
            "        20           2.9480           0.0206           13.59s\n",
            "        30           2.7491           0.0030           11.76s\n",
            "        40           2.6304           0.0052            9.79s\n",
            "        50           2.5571           0.0034            8.22s\n",
            "        60           2.5389           0.0016            6.53s\n",
            "        70           2.5151           0.0030            4.89s\n",
            "        80           2.4917           0.0023            3.22s\n",
            "        90           2.4818           0.0013            1.63s\n",
            "       100           2.4726           0.0008            0.00s\n",
            "roc_auc_score 0.3137168697399824\n"
          ],
          "name": "stdout"
        }
      ]
    },
    {
      "cell_type": "code",
      "metadata": {
        "id": "2xI1_RsXxcex",
        "colab_type": "code",
        "colab": {
          "base_uri": "https://localhost:8080/",
          "height": 728
        },
        "outputId": "ad4121ce-d2eb-4bbb-cf54-7f3be9f7a3cc"
      },
      "source": [
        "import seaborn as sns\n",
        "feature_imp = pd.DataFrame(sorted(zip(gb.feature_importances_, X.columns), reverse=True)[:60], columns=['Value','Feature'])\n",
        "plt.figure(figsize=(12,10))\n",
        "sns.barplot(x=\"Value\", y=\"Feature\", data=feature_imp.sort_values(by=\"Value\", ascending=False))\n",
        "plt.title('Gradient Boosting Features')\n",
        "plt.tight_layout()\n",
        "plt.show()"
      ],
      "execution_count": null,
      "outputs": [
        {
          "output_type": "display_data",
          "data": {
            "image/png": "[encoded data removed]",
            "text/plain": [
              "<Figure size 864x720 with 1 Axes>"
            ]
          },
          "metadata": {
            "tags": [],
            "needs_background": "light"
          }
        }
      ]
    },
    {
      "cell_type": "code",
      "metadata": {
        "id": "J6qgsVBvxcjE",
        "colab_type": "code",
        "colab": {}
      },
      "source": [
        "Xtest = test_df"
      ],
      "execution_count": null,
      "outputs": []
    },
    {
      "cell_type": "code",
      "metadata": {
        "id": "ytUDQcpnxccj",
        "colab_type": "code",
        "colab": {
          "base_uri": "https://localhost:8080/",
          "height": 84
        },
        "outputId": "c7bbb070-ac99-4429-ee96-a97e159c3eb0"
      },
      "source": [
        "from sklearn.model_selection import KFold\n",
        "\n",
        "errgb = []\n",
        "y_pred_totgb = []\n",
        "\n",
        "fold = KFold(n_splits=4, shuffle=True, random_state=101)\n",
        "\n",
        "for train_index, test_index in fold.split(X):\n",
        "    X_train, X_test = X.loc[train_index], X.loc[test_index]\n",
        "    y_train, y_test = y[train_index], y[test_index]\n",
        "             \n",
        "    gb = GradientBoostingRegressor(learning_rate=0.01, n_estimators=500, random_state=101, subsample=0.8, max_features='log2')\n",
        "    gb.fit(X_train, y_train)\n",
        "    y_pred = gb.predict(X_test)\n",
        "\n",
        "    print('RMSE', roc_auc_score(y_test, y_pred))\n",
        "\n",
        "    errgb.append(roc_auc_score(y_test, y_pred))\n",
        "    p = gb.predict(Xtest)\n",
        "    y_pred_totgb.append(p)"
      ],
      "execution_count": null,
      "outputs": [
        {
          "output_type": "stream",
          "text": [
            "RMSE 0.9044860368389781\n",
            "RMSE 0.9334024618678085\n",
            "RMSE 0.9051497792099296\n",
            "RMSE 0.9386386939033048\n"
          ],
          "name": "stdout"
        }
      ]
    },
    {
      "cell_type": "code",
      "metadata": {
        "id": "4RecuH06xcZV",
        "colab_type": "code",
        "colab": {
          "base_uri": "https://localhost:8080/",
          "height": 33
        },
        "outputId": "82bcf082-ae77-47fd-b85b-ee6f9d799cd0"
      },
      "source": [
        "np.mean(errgb)"
      ],
      "execution_count": null,
      "outputs": [
        {
          "output_type": "execute_result",
          "data": {
            "text/plain": [
              "0.9204192429550052"
            ]
          },
          "metadata": {
            "tags": []
          },
          "execution_count": 140
        }
      ]
    },
    {
      "cell_type": "code",
      "metadata": {
        "id": "gxpKYkN5xcYF",
        "colab_type": "code",
        "colab": {}
      },
      "source": [
        "final = np.mean(y_pred_totgb,0)"
      ],
      "execution_count": null,
      "outputs": []
    },
    {
      "cell_type": "code",
      "metadata": {
        "colab_type": "code",
        "id": "TUW5nGD8zFgv",
        "colab": {
          "base_uri": "https://localhost:8080/",
          "height": 252
        },
        "outputId": "392b8b7f-0707-44b9-cf8f-9cf8d1c0e442"
      },
      "source": [
        "submission = pd.DataFrame({\n",
        "        \"Class\":final\n",
        "    })\n",
        "submission.to_csv('./ensemble.csv', index=False)\n",
        "print(submission)"
      ],
      "execution_count": null,
      "outputs": [
        {
          "output_type": "stream",
          "text": [
            "        Class\n",
            "0    0.233190\n",
            "1    0.036421\n",
            "2    0.041921\n",
            "3    0.298441\n",
            "4    0.492069\n",
            "..        ...\n",
            "751  0.030880\n",
            "752  0.029883\n",
            "753  0.032121\n",
            "754  0.029024\n",
            "755  0.032459\n",
            "\n",
            "[756 rows x 1 columns]\n"
          ],
          "name": "stdout"
        }
      ]
    },
    {
      "cell_type": "code",
      "metadata": {
        "colab_type": "code",
        "id": "dxKrKfnwzFhE",
        "colab": {
          "base_uri": "https://localhost:8080/",
          "height": 16
        },
        "outputId": "a2d3db9f-f949-4cc8-db91-c8d9726c5a94"
      },
      "source": [
        "from google.colab import files\n",
        "files.download('ensemble.csv')"
      ],
      "execution_count": null,
      "outputs": [
        {
          "output_type": "display_data",
          "data": {
            "application/javascript": [
              "\n",
              "    async function download(id, filename, size) {\n",
              "      if (!google.colab.kernel.accessAllowed) {\n",
              "        return;\n",
              "      }\n",
              "      const div = document.createElement('div');\n",
              "      const label = document.createElement('label');\n",
              "      label.textContent = `Downloading \"${filename}\": `;\n",
              "      div.appendChild(label);\n",
              "      const progress = document.createElement('progress');\n",
              "      progress.max = size;\n",
              "      div.appendChild(progress);\n",
              "      document.body.appendChild(div);\n",
              "\n",
              "      const buffers = [];\n",
              "      let downloaded = 0;\n",
              "\n",
              "      const channel = await google.colab.kernel.comms.open(id);\n",
              "      // Send a message to notify the kernel that we're ready.\n",
              "      channel.send({})\n",
              "\n",
              "      for await (const message of channel.messages) {\n",
              "        // Send a message to notify the kernel that we're ready.\n",
              "        channel.send({})\n",
              "        if (message.buffers) {\n",
              "          for (const buffer of message.buffers) {\n",
              "            buffers.push(buffer);\n",
              "            downloaded += buffer.byteLength;\n",
              "            progress.value = downloaded;\n",
              "          }\n",
              "        }\n",
              "      }\n",
              "      const blob = new Blob(buffers, {type: 'application/binary'});\n",
              "      const a = document.createElement('a');\n",
              "      a.href = window.URL.createObjectURL(blob);\n",
              "      a.download = filename;\n",
              "      div.appendChild(a);\n",
              "      a.click();\n",
              "      div.remove();\n",
              "    }\n",
              "  "
            ],
            "text/plain": [
              "<IPython.core.display.Javascript object>"
            ]
          },
          "metadata": {
            "tags": []
          }
        },
        {
          "output_type": "display_data",
          "data": {
            "application/javascript": [
              "download(\"download_f312badf-70cd-441b-9340-178dd73412ab\", \"ensemble.csv\", 15297)"
            ],
            "text/plain": [
              "<IPython.core.display.Javascript object>"
            ]
          },
          "metadata": {
            "tags": []
          }
        }
      ]
    },
    {
      "cell_type": "code",
      "metadata": {
        "id": "kXir8bLOxcSa",
        "colab_type": "code",
        "colab": {
          "base_uri": "https://localhost:8080/",
          "height": 756
        },
        "outputId": "ce3cec63-1003-42b1-9204-55f848a79894"
      },
      "source": [
        "!wget https://datahack-prod.s3.amazonaws.com/submissions/janatahack-healthcare-analytics-ii/889_613210_us_bhn.csv\n",
        "!wget https://datahack-prod.s3.amazonaws.com/submissions/janatahack-healthcare-analytics-ii/889_613210_us_submission-lgbm.csv\n",
        "!wget https://datahack-prod.s3.amazonaws.com/submissions/janatahack-healthcare-analytics-ii/889_613210_us_catboost-sub.csv\n",
        "!wget https://datahack-prod.s3.amazonaws.com/submissions/janatahack-healthcare-analytics-ii/889_613210_us_ccc.csv"
      ],
      "execution_count": null,
      "outputs": [
        {
          "output_type": "stream",
          "text": [
            "--2020-09-05 17:33:14--  https://datahack-prod.s3.amazonaws.com/submissions/janatahack-healthcare-analytics-ii/889_613210_us_bhn.csv\n",
            "Resolving datahack-prod.s3.amazonaws.com (datahack-prod.s3.amazonaws.com)... 52.219.62.80\n",
            "Connecting to datahack-prod.s3.amazonaws.com (datahack-prod.s3.amazonaws.com)|52.219.62.80|:443... connected.\n",
            "HTTP request sent, awaiting response... 200 OK\n",
            "Length: 1949558 (1.9M) [application/vnd.ms-excel]\n",
            "Saving to: ‘889_613210_us_bhn.csv’\n",
            "\n",
            "889_613210_us_bhn.c 100%[===================>]   1.86M  2.85MB/s    in 0.7s    \n",
            "\n",
            "2020-09-05 17:33:15 (2.85 MB/s) - ‘889_613210_us_bhn.csv’ saved [1949558/1949558]\n",
            "\n",
            "--2020-09-05 17:33:16--  https://datahack-prod.s3.amazonaws.com/submissions/janatahack-healthcare-analytics-ii/889_613210_us_submission-lgbm.csv\n",
            "Resolving datahack-prod.s3.amazonaws.com (datahack-prod.s3.amazonaws.com)... 52.219.62.48\n",
            "Connecting to datahack-prod.s3.amazonaws.com (datahack-prod.s3.amazonaws.com)|52.219.62.48|:443... connected.\n",
            "HTTP request sent, awaiting response... 200 OK\n",
            "Length: 1945047 (1.9M) [application/vnd.ms-excel]\n",
            "Saving to: ‘889_613210_us_submission-lgbm.csv’\n",
            "\n",
            "889_613210_us_submi 100%[===================>]   1.85M  2.87MB/s    in 0.6s    \n",
            "\n",
            "2020-09-05 17:33:17 (2.87 MB/s) - ‘889_613210_us_submission-lgbm.csv’ saved [1945047/1945047]\n",
            "\n",
            "--2020-09-05 17:33:17--  https://datahack-prod.s3.amazonaws.com/submissions/janatahack-healthcare-analytics-ii/889_613210_us_catboost-sub.csv\n",
            "Resolving datahack-prod.s3.amazonaws.com (datahack-prod.s3.amazonaws.com)... 52.219.62.80\n",
            "Connecting to datahack-prod.s3.amazonaws.com (datahack-prod.s3.amazonaws.com)|52.219.62.80|:443... connected.\n",
            "HTTP request sent, awaiting response... 200 OK\n",
            "Length: 1937531 (1.8M) [application/vnd.ms-excel]\n",
            "Saving to: ‘889_613210_us_catboost-sub.csv’\n",
            "\n",
            "889_613210_us_catbo 100%[===================>]   1.85M  2.49MB/s    in 0.7s    \n",
            "\n",
            "2020-09-05 17:33:18 (2.49 MB/s) - ‘889_613210_us_catboost-sub.csv’ saved [1937531/1937531]\n",
            "\n",
            "--2020-09-05 17:33:18--  https://datahack-prod.s3.amazonaws.com/submissions/janatahack-healthcare-analytics-ii/889_613210_us_ccc.csv\n",
            "Resolving datahack-prod.s3.amazonaws.com (datahack-prod.s3.amazonaws.com)... 52.219.62.48\n",
            "Connecting to datahack-prod.s3.amazonaws.com (datahack-prod.s3.amazonaws.com)|52.219.62.48|:443... connected.\n",
            "HTTP request sent, awaiting response... 200 OK\n",
            "Length: 1805554 (1.7M) [application/vnd.ms-excel]\n",
            "Saving to: ‘889_613210_us_ccc.csv’\n",
            "\n",
            "889_613210_us_ccc.c 100%[===================>]   1.72M  2.68MB/s    in 0.6s    \n",
            "\n",
            "2020-09-05 17:33:19 (2.68 MB/s) - ‘889_613210_us_ccc.csv’ saved [1805554/1805554]\n",
            "\n"
          ],
          "name": "stdout"
        }
      ]
    },
    {
      "cell_type": "code",
      "metadata": {
        "id": "7IC6lpKaxcMn",
        "colab_type": "code",
        "colab": {}
      },
      "source": [
        "w=pd.read_csv('889_613210_us_ccc.csv')\n",
        "x=pd.read_csv('889_613210_us_bhn.csv')\n",
        "y=pd.read_csv('889_613210_us_submission-lgbm.csv')\n",
        "z=pd.read_csv('889_613210_us_catboost-sub.csv')"
      ],
      "execution_count": null,
      "outputs": []
    },
    {
      "cell_type": "code",
      "metadata": {
        "id": "JoyLLdIzsJEO",
        "colab_type": "code",
        "colab": {
          "base_uri": "https://localhost:8080/",
          "height": 104
        },
        "outputId": "9bed8204-4db9-4007-e15f-b5b8f173f4f8"
      },
      "source": [
        "w.head(2)"
      ],
      "execution_count": null,
      "outputs": [
        {
          "output_type": "execute_result",
          "data": {
            "text/html": [
              "<div>\n",
              "<style scoped>\n",
              "    .dataframe tbody tr th:only-of-type {\n",
              "        vertical-align: middle;\n",
              "    }\n",
              "\n",
              "    .dataframe tbody tr th {\n",
              "        vertical-align: top;\n",
              "    }\n",
              "\n",
              "    .dataframe thead th {\n",
              "        text-align: right;\n",
              "    }\n",
              "</style>\n",
              "<table border=\"1\" class=\"dataframe\">\n",
              "  <thead>\n",
              "    <tr style=\"text-align: right;\">\n",
              "      <th></th>\n",
              "      <th>case_id</th>\n",
              "      <th>Stay</th>\n",
              "    </tr>\n",
              "  </thead>\n",
              "  <tbody>\n",
              "    <tr>\n",
              "      <th>0</th>\n",
              "      <td>318439</td>\n",
              "      <td>0-10</td>\n",
              "    </tr>\n",
              "    <tr>\n",
              "      <th>1</th>\n",
              "      <td>318440</td>\n",
              "      <td>51-60</td>\n",
              "    </tr>\n",
              "  </tbody>\n",
              "</table>\n",
              "</div>"
            ],
            "text/plain": [
              "   case_id   Stay\n",
              "0   318439   0-10\n",
              "1   318440  51-60"
            ]
          },
          "metadata": {
            "tags": []
          },
          "execution_count": 14
        }
      ]
    },
    {
      "cell_type": "code",
      "metadata": {
        "id": "6Prs0MRZ5aSN",
        "colab_type": "code",
        "colab": {}
      },
      "source": [
        "from sklearn.preprocessing import LabelEncoder\n",
        "le = LabelEncoder()\n",
        "w['Stay'] = le.fit_transform(w['Stay'])\n",
        "x['Stay'] = le.fit_transform(x['Stay'])\n",
        "y['Stay'] = le.fit_transform(y['Stay'])\n",
        "z['Stay'] = le.fit_transform(z['Stay'])"
      ],
      "execution_count": null,
      "outputs": []
    },
    {
      "cell_type": "code",
      "metadata": {
        "id": "T1ctdD3s5lZN",
        "colab_type": "code",
        "colab": {}
      },
      "source": [
        "zz=w['Stay']*1+x['Stay']*0.05+y['Stay']*0.03+z['Stay']*0.02"
      ],
      "execution_count": null,
      "outputs": []
    },
    {
      "cell_type": "code",
      "metadata": {
        "id": "VC41TbQM5xjN",
        "colab_type": "code",
        "colab": {}
      },
      "source": [
        "zz=(zz.round()).astype(int)"
      ],
      "execution_count": null,
      "outputs": []
    },
    {
      "cell_type": "code",
      "metadata": {
        "id": "fOy69DOR512H",
        "colab_type": "code",
        "colab": {}
      },
      "source": [
        "y_pred_class = le.inverse_transform(zz)"
      ],
      "execution_count": null,
      "outputs": []
    },
    {
      "cell_type": "code",
      "metadata": {
        "id": "J8eYHalN52Xl",
        "colab_type": "code",
        "colab": {}
      },
      "source": [
        "x['Stay']=y_pred_class"
      ],
      "execution_count": null,
      "outputs": []
    },
    {
      "cell_type": "code",
      "metadata": {
        "id": "-KtV3b5j6I3j",
        "colab_type": "code",
        "colab": {}
      },
      "source": [
        "x.to_csv('more.csv',index=False)"
      ],
      "execution_count": null,
      "outputs": []
    }
  ]
}